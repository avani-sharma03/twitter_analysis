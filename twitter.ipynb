{
 "cells": [
  {
   "cell_type": "code",
   "execution_count": null,
   "metadata": {},
   "outputs": [],
   "source": [
    "import tweepy\n",
    "from textblob import TextBlob\n",
    "import matplotlib.pyplot as plt\n",
    "import pandas as pd\n"
   ]
  },
  {
   "cell_type": "code",
   "execution_count": null,
   "metadata": {},
   "outputs": [],
   "source": [
    "consumerkey = ' ' #we need to create a developer account to get this key\n",
    "consumersecret = ' '#we need to create a developer account to get this key\n",
    "accesstoken = ' '#we need to create a developer account to get this key\n",
    "accesstokensecret = ' '#we need to create a developer account to get this key"
   ]
  },
  {
   "cell_type": "code",
   "execution_count": null,
   "metadata": {},
   "outputs": [],
   "source": [
    "auth=tweepy.OAuthHandler(consumerkey,consumersecret)\n",
    "auth.set_access_token(accesstoken,accesstokensecret)\n",
    "\n",
    "api = tweepy.API(auth)"
   ]
  },
  {
   "cell_type": "code",
   "execution_count": null,
   "metadata": {},
   "outputs": [],
   "source": [
    "search_term = input(\"Enter search term\")\n",
    "no_tweets = int(input(\"Enter the no.\"))\n"
   ]
  },
  {
   "cell_type": "code",
   "execution_count": null,
   "metadata": {},
   "outputs": [],
   "source": [
    "tweets = tweepy.Cursor(api.search, q=search_term,lang='en').items(no_tweets)\n",
    "tweets = list(tweets)\n",
    "print(tweets)"
   ]
  },
  {
   "cell_type": "code",
   "execution_count": null,
   "metadata": {},
   "outputs": [],
   "source": [
    "tweets_list = []\n",
    "tweets_catg = []\n",
    "pol = []\n",
    "\n",
    "neu=0\n",
    "semi_pos=0\n",
    "very_pos=0\n",
    "semi_neg=0\n",
    "very_neg=0\n",
    "cnt=1\n",
    "\n",
    "for tweet in tweets:\n",
    "    analysis = TextBlob(tweet.text)\n",
    "    \n",
    "    print(cnt,tweet.text.replace('\\n', '').replace('\\t',' ').strip())\n",
    "    cnt = cnt+1\n",
    "    \n",
    "    tweets_list.append(tweet.text.replace('\\n', '').replace('\\t',' ').strip())\n",
    "    pol.append(analysis.sentiment.polarity)\n",
    "    \n",
    "    if analysis.sentiment.polarity == 0:\n",
    "        neu += 1\n",
    "        tweets_catg.append('Neutral')\n",
    "    elif analysis.sentiment.polarity > 0 and analysis.sentiment.polarity <= 0.5:\n",
    "        semi_pos += 1\n",
    "        tweets_catg.append('Semi Positive')\n",
    "    elif analysis.sentiment.polarity > 0.5 and analysis.sentiment.polarity <= 1:\n",
    "        very_pos += 1\n",
    "        tweets_catg.append('Very Positive')\n",
    "    elif analysis.sentiment.polarity > -0.5 and analysis.sentiment.polarity < 0:\n",
    "        semi_neg += 1\n",
    "        tweets_catg.append('Semi Negative')\n",
    "    elif analysis.sentiment.polarity > -1 and analysis.sentiment.polarity <= -0.5:\n",
    "        very_neg += 1\n",
    "        tweets_catg.append('Very Negative')\n",
    "        \n",
    "print(neu,semi_pos,semi_neg,very_pos,very_neg)"
   ]
  },
  {
   "cell_type": "code",
   "execution_count": null,
   "metadata": {},
   "outputs": [],
   "source": [
    "df = pd.DataFrame()\n",
    "df['tweets'] = tweets_list\n",
    "df['polarity'] = pol\n",
    "df['category'] = tweets_catg\n",
    "df.head()"
   ]
  },
  {
   "cell_type": "code",
   "execution_count": null,
   "metadata": {},
   "outputs": [],
   "source": [
    "df1 = df['category'].value_counts()"
   ]
  },
  {
   "cell_type": "code",
   "execution_count": null,
   "metadata": {},
   "outputs": [],
   "source": [
    "df1.plot(x='category', kind='bar')"
   ]
  },
  {
   "cell_type": "code",
   "execution_count": null,
   "metadata": {},
   "outputs": [],
   "source": [
    "analysis.sentiment.subjectivity -- score (+! to -1)"
   ]
  },
  {
   "cell_type": "code",
   "execution_count": null,
   "metadata": {},
   "outputs": [],
   "source": []
  },
  {
   "cell_type": "code",
   "execution_count": null,
   "metadata": {},
   "outputs": [],
   "source": []
  },
  {
   "cell_type": "code",
   "execution_count": null,
   "metadata": {},
   "outputs": [],
   "source": []
  }
 ],
 "metadata": {
  "kernelspec": {
   "display_name": "Python 3",
   "language": "python",
   "name": "python3"
  },
  "language_info": {
   "codemirror_mode": {
    "name": "ipython",
    "version": 3
   },
   "file_extension": ".py",
   "mimetype": "text/x-python",
   "name": "python",
   "nbconvert_exporter": "python",
   "pygments_lexer": "ipython3",
   "version": "3.7.3"
  }
 },
 "nbformat": 4,
 "nbformat_minor": 2
}
